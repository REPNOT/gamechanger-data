{
 "cells": [
  {
   "cell_type": "markdown",
   "metadata": {},
   "source": [
    "# Reference Implementation Workbook"
   ]
  },
  {
   "cell_type": "code",
   "execution_count": 9,
   "metadata": {
    "scrolled": true
   },
   "outputs": [],
   "source": [
    "from ref_utils import make_dict\n",
    "import re\n",
    "ref_regex = make_dict()"
   ]
  },
  {
   "cell_type": "code",
   "execution_count": 10,
   "metadata": {},
   "outputs": [],
   "source": [
    "def check(check_str, ref_type):\n",
    "    matches = ref_regex[ref_type][1].findall(check_str)\n",
    "    for match in matches:\n",
    "        num_match = ref_regex[ref_type][0].search(match[0])\n",
    "        if not num_match:\n",
    "            continue\n",
    "        print((str(ref_type) + \" \" + str(num_match[0])).strip())\n",
    "\n",
    "    return"
   ]
  },
  {
   "cell_type": "code",
   "execution_count": 11,
   "metadata": {},
   "outputs": [
    {
     "name": "stdout",
     "output_type": "stream",
     "text": [
      "DoDI 4140.01\n",
      "DoDI 3110.06\n"
     ]
    }
   ],
   "source": [
    "check(\"reference DoD 4160.28-M DoD 7000.14-R DoDD 5134.12 DoDI 4140.01 DoDI 3110.06 DoD\", \"DoDI\")"
   ]
  },
  {
   "cell_type": "code",
   "execution_count": 12,
   "metadata": {},
   "outputs": [],
   "source": [
    "doc_types = list(ref_regex.keys())"
   ]
  },
  {
   "cell_type": "code",
   "execution_count": 13,
   "metadata": {
    "scrolled": true
   },
   "outputs": [
    {
     "data": {
      "text/plain": [
       "['DoD',\n",
       " 'DoDD',\n",
       " 'DoDI',\n",
       " 'DoDM',\n",
       " 'DTM',\n",
       " 'AI',\n",
       " 'Title',\n",
       " 'ICD',\n",
       " 'ICPG',\n",
       " 'ICPM',\n",
       " 'CJCSI',\n",
       " 'CJCSM',\n",
       " 'CJCSG',\n",
       " 'CJCSN',\n",
       " 'JP',\n",
       " 'DCID',\n",
       " 'EO',\n",
       " 'AR',\n",
       " 'AGO',\n",
       " 'ADP',\n",
       " 'PAM',\n",
       " 'ATP',\n",
       " 'ARMY DIR',\n",
       " 'TC',\n",
       " 'STP',\n",
       " 'TB',\n",
       " 'DA MEMO',\n",
       " 'FM',\n",
       " 'GTA',\n",
       " 'HQDA POLICY NOTICE',\n",
       " 'CTA',\n",
       " 'ATTP',\n",
       " 'TM',\n",
       " 'AFI',\n",
       " 'CFETP',\n",
       " 'AFMAN',\n",
       " 'QTP',\n",
       " 'AFPD',\n",
       " 'AFTTP',\n",
       " 'AFVA',\n",
       " 'AFH',\n",
       " 'HAFMD',\n",
       " 'AFPAM',\n",
       " 'AFMD',\n",
       " 'AFM',\n",
       " 'HOI',\n",
       " 'AFJQS',\n",
       " 'AFJI',\n",
       " 'AFGM',\n",
       " 'DAFI',\n",
       " 'AF',\n",
       " 'SF',\n",
       " 'AFPM',\n",
       " 'AFJMAN',\n",
       " 'JTA',\n",
       " 'DAFPD',\n",
       " 'MCO',\n",
       " 'MCBUL',\n",
       " 'NAVMC',\n",
       " 'NAVMC DIR',\n",
       " 'MCRP',\n",
       " 'MCTP',\n",
       " 'MCWP',\n",
       " 'MCDP',\n",
       " 'MCIP',\n",
       " 'FMFRP',\n",
       " 'FMFM',\n",
       " 'IRM',\n",
       " 'SECNAVINST',\n",
       " 'SECNAV',\n",
       " 'NAVSUP',\n",
       " 'JAGINST',\n",
       " 'OMBM']"
      ]
     },
     "execution_count": 13,
     "metadata": {},
     "output_type": "execute_result"
    }
   ],
   "source": [
    "doc_types"
   ]
  },
  {
   "cell_type": "code",
   "execution_count": null,
   "metadata": {},
   "outputs": [],
   "source": []
  }
 ],
 "metadata": {
  "kernelspec": {
   "display_name": "gc",
   "language": "python",
   "name": "gc"
  },
  "language_info": {
   "codemirror_mode": {
    "name": "ipython",
    "version": 3
   },
   "file_extension": ".py",
   "mimetype": "text/x-python",
   "name": "python",
   "nbconvert_exporter": "python",
   "pygments_lexer": "ipython3",
   "version": "3.7.6"
  }
 },
 "nbformat": 4,
 "nbformat_minor": 4
}
