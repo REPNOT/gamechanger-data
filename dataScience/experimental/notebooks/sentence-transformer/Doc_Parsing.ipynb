{
 "cells": [
  {
   "cell_type": "code",
   "execution_count": 49,
   "metadata": {},
   "outputs": [],
   "source": [
    "import os\n",
    "import re\n",
    "import json\n",
    "from dataScience.src.text_handling.process import preprocess\n",
    "from tqdm import tqdm"
   ]
  },
  {
   "cell_type": "code",
   "execution_count": 50,
   "metadata": {},
   "outputs": [],
   "source": [
    "corpus_path = \"./../../../../../corpus/dod_corp/\""
   ]
  },
  {
   "cell_type": "code",
   "execution_count": 3,
   "metadata": {},
   "outputs": [
    {
     "name": "stdout",
     "output_type": "stream",
     "text": [
      "DoDI 1000.04.json\n",
      "DoDM 1348.33 Volume 1 CH 2.json\n",
      "DoDI 1444.02 Volume 3 CH 1.json\n",
      "DoDI 1400.25 Volume 1403.json\n",
      "DoDI 1005.14 CH 1.json\n",
      "DoDI 1342.15 CH 1.json\n",
      "DoDI 1402.03 VOLUME 2 CH 2.json\n",
      "DoDI 1300.25 CH 1.json\n",
      "DoDI 3002.03 CH 1.json\n",
      "DoDI 1341.09.json\n",
      "DoDI 5040.02 CH 2.json\n"
     ]
    }
   ],
   "source": [
    "for i, path in enumerate(os.listdir(corpus_path)):\n",
    "    print(path)\n",
    "    if i == 10:\n",
    "        break"
   ]
  },
  {
   "cell_type": "code",
   "execution_count": 53,
   "metadata": {},
   "outputs": [],
   "source": [
    "paths = [path for path in os.listdir(corpus_path)]"
   ]
  },
  {
   "cell_type": "code",
   "execution_count": 55,
   "metadata": {},
   "outputs": [
    {
     "data": {
      "text/plain": [
       "['DoD', 'DoDD', 'DoDI', 'DoDM']"
      ]
     },
     "execution_count": 55,
     "metadata": {},
     "output_type": "execute_result"
    }
   ],
   "source": [
    "doc_types = sorted(set([path.split()[0] for path in paths]))\n",
    "doc_types"
   ]
  },
  {
   "cell_type": "code",
   "execution_count": 62,
   "metadata": {},
   "outputs": [],
   "source": [
    "doc_nums = sorted(set([re.findall(\"\\d{4}\", path, re.DOTALL)[0] for path in paths]))"
   ]
  },
  {
   "cell_type": "code",
   "execution_count": 76,
   "metadata": {},
   "outputs": [],
   "source": [
    "doc_subs = sorted(set([re.findall(\"\\.\\d+\", path, re.DOTALL)[0][1:] for path in paths]))"
   ]
  },
  {
   "cell_type": "code",
   "execution_count": 114,
   "metadata": {},
   "outputs": [],
   "source": [
    "def find_meta(path):\n",
    "    doc_type = path.split()[0]\n",
    "    doc_number = re.findall(\"\\d{4}\", path,  re.DOTALL)[0]\n",
    "    doc_series = doc_number[0]\n",
    "    doc_subseries = doc_number[:2]\n",
    "    doc_issuance = re.findall(\"\\.\\d+\", path, re.DOTALL)[0][1:]\n",
    "    \n",
    "    path_l = path.lower()\n",
    "    doc_vol = re.findall(\"volume\\ \\d{1,}\", path_l, re.DOTALL)\n",
    "    doc_vol = doc_vol[0].split()[-1] if doc_vol else None\n",
    "    doc_chp = re.findall(\"ch\\ \\d{1,}\", path_l, re.DOTALL)\n",
    "    doc_chp = doc_chp[0].split()[-1] if doc_chp else None\n",
    "    \n",
    "    doc_meta = {\n",
    "        \"path\": path,\n",
    "        \"type\": doc_type,\n",
    "        \"series\": doc_series,\n",
    "        \"subseries\": doc_subseries,\n",
    "        \"issuance\": doc_issuance,\n",
    "        \"number\": doc_number,\n",
    "        \"volume\": doc_vol,\n",
    "        \"chapter\": doc_chp\n",
    "    }\n",
    "    return doc_meta"
   ]
  },
  {
   "cell_type": "code",
   "execution_count": 116,
   "metadata": {},
   "outputs": [
    {
     "data": {
      "text/plain": [
       "{'path': 'DoDD 5124.10.json',\n",
       " 'type': 'DoDD',\n",
       " 'series': '5',\n",
       " 'subseries': '51',\n",
       " 'issuance': '10',\n",
       " 'number': '5124',\n",
       " 'volume': None,\n",
       " 'chapter': None}"
      ]
     },
     "execution_count": 116,
     "metadata": {},
     "output_type": "execute_result"
    }
   ],
   "source": [
    "idx = 150\n",
    "find_meta(paths[idx])"
   ]
  },
  {
   "cell_type": "code",
   "execution_count": 122,
   "metadata": {},
   "outputs": [],
   "source": [
    "def directory_parse(corpus_path):\n",
    "    dir_rank = {}\n",
    "    for file in os.listdir(corpus_path):\n",
    "        metadata = find_meta(file)\n",
    "        a = metadata[\"type\"]\n",
    "        b = metadata[\"series\"]\n",
    "        c = metadata[\"subseries\"]\n",
    "        d = metadata[\"number\"]\n",
    "        e = metadata[\"issuance\"]\n",
    "\n",
    "        if a not in dir_rank: dir_rank[a] = {}\n",
    "        if b not in dir_rank[a]: dir_rank[a][b] = {}\n",
    "        if c not in dir_rank[a][b]: dir_rank[a][b][c] = {}\n",
    "        if d not in dir_rank[a][b][c]: dir_rank[a][b][c][d] = {}\n",
    "        if e not in dir_rank[a][b][c][d]: dir_rank[a][b][c][d][e] = []\n",
    "\n",
    "        dir_rank[a][b][c][d][e].append(metadata[\"path\"])\n",
    "    return dir_rank"
   ]
  },
  {
   "cell_type": "code",
   "execution_count": 123,
   "metadata": {},
   "outputs": [],
   "source": [
    "dir_parse = directory_parse(corpus_path)\n",
    "with open(\"dir_parse.json\", \"w\") as fp:\n",
    "    json.dump(dir_parse, fp)"
   ]
  },
  {
   "cell_type": "code",
   "execution_count": 5,
   "metadata": {},
   "outputs": [
    {
     "name": "stderr",
     "output_type": "stream",
     "text": [
      "100%|██████████| 1180/1180 [00:00<00:00, 440170.64it/s]\n"
     ]
    }
   ],
   "source": [
    "for path in tqdm(os.listdir(corpus_path)):\n",
    "    full_path = os.path.join(corpus_path, path)"
   ]
  },
  {
   "cell_type": "code",
   "execution_count": 6,
   "metadata": {},
   "outputs": [
    {
     "data": {
      "text/plain": [
       "'e . Authorizes the establishment of the Defense VI ( DVI ) Directorate and the Defense Imagery Management Operations Center ( DIMOC ) .'"
      ]
     },
     "execution_count": 6,
     "metadata": {},
     "output_type": "execute_result"
    }
   ],
   "source": [
    "data[\"paragraphs\"][11]['par_raw_text_t']"
   ]
  },
  {
   "cell_type": "code",
   "execution_count": 7,
   "metadata": {},
   "outputs": [
    {
     "data": {
      "text/plain": [
       "'e . Authorizes the establishment of the Defense VI ( DVI ) Directorate and the Defense Imagery Management Operations Center ( DIMOC ) .'"
      ]
     },
     "execution_count": 7,
     "metadata": {},
     "output_type": "execute_result"
    }
   ],
   "source": [
    "s = data[\"paragraphs\"][11][\"par_raw_text_t\"]\n",
    "s"
   ]
  },
  {
   "cell_type": "code",
   "execution_count": 33,
   "metadata": {},
   "outputs": [],
   "source": [
    "# Header formats\n",
    "\n",
    "### PATTERN SET 1 ###\n",
    "# \"DoDI 1444.02 Volume 3 CH 1.json\"\n",
    "# [ 1. PURPOSE ] [ b. ] [ (3) ]\n",
    "pattern_1 = \"\\d+\\s?\\.\\s?[A-Z()& ]{3,}(?<! )\"\n",
    "pattern_2 = \"[a-z]\\s?\\.\\s(?=[A-Z])\"\n",
    "pattern_3 = \"\\(\\s\\d\\s\\)(?= [A-Z])\"\n",
    "pattern_4 = \"\\(\\s[a-z]\\s\\)(?= [A-Z])\"\n",
    "#pattern_4 = \"\\[a-z]\\s.(?= [A-Z])\"\n",
    "\n",
    "pattern_set_1 = [\n",
    "    pattern_1,\n",
    "    pattern_2,\n",
    "    pattern_3\n",
    "]"
   ]
  },
  {
   "cell_type": "code",
   "execution_count": 129,
   "metadata": {},
   "outputs": [],
   "source": [
    "### PATTERN SET 2 ###\n",
    "pattern_1 = \"[A-Z]{3,}\\s\\d\\s\\:\\s[A-Z ]{3,}(?<! )\"\n",
    "pattern_2 = \"\\d\\.\\d?\\s\\.\\s[A-Z,()& ]{3,}(?<! )\"\n",
    "pattern_3 = \"\\ [a-z]\\ \\.(?=[A-Z])\"\n",
    "pattern_4 = \"\\(\\s\\d\\s\\)(?=.)(?= [A-Z])\"\n",
    "pattern_5 = \"\\(\\s[a-z]\\s\\)(?=.)(?= [A-Z])\"\n",
    "\n",
    "pattern_set_2 = [\n",
    "    pattern_1,\n",
    "    pattern_2,\n",
    "    pattern_3,\n",
    "    pattern_4,\n",
    "    pattern_5\n",
    "]"
   ]
  },
  {
   "cell_type": "code",
   "execution_count": null,
   "metadata": {},
   "outputs": [],
   "source": [
    "### PATTERN SET 3 ###\n",
    "pattern_1 = \"[A-Z]{3,}\\s\\d\\s\\:\\s[A-Z ]{3,}(?<! )\"\n",
    "pattern_2 = \"\\d\\.\\d?\\s\\.\\s[A-Z,()& ]{3,}(?<! )\"\n",
    "pattern_3 = \"\\ [a-z]\\ \\.(?=[A-Z])\"\n",
    "pattern_4 = \"\\(\\s\\d\\s\\)(?=.)(?= [A-Z])\"\n",
    "pattern_5 = \"\\(\\s[a-z]\\s\\)(?=.)(?= [A-Z])\"\n",
    "\n",
    "pattern_set_3 = [\n",
    "    pattern_1,\n",
    "    pattern_2,\n",
    "    pattern_3,\n",
    "    pattern_4,\n",
    "]"
   ]
  },
  {
   "cell_type": "code",
   "execution_count": 46,
   "metadata": {},
   "outputs": [],
   "source": [
    "class Hieharchy(object):\n",
    "    def __init__(self):\n",
    "        self.dictionary = {}\n",
    "    \n",
    "    def update(self, keys, value):\n",
    "        dic = self.dictionary\n",
    "        for key in keys:\n",
    "            if key not in dic:\n",
    "                dic[key] = {}\n",
    "            dic = dic[key]\n",
    "        dic[\"text\"] = value"
   ]
  },
  {
   "cell_type": "code",
   "execution_count": 47,
   "metadata": {},
   "outputs": [],
   "source": [
    "# Test documents\n",
    "\n",
    "path = \"DoDI 1444.02 Volume 3 CH 1.json\"\n",
    "path = \"DoDI 1000.04.json\"\n",
    "path = \"DoDM 1348.33 Volume 1 CH 2.json\"\n",
    "#path = \"DoDI 1402.03 VOLUME 2 CH 2.json\""
   ]
  },
  {
   "cell_type": "code",
   "execution_count": 133,
   "metadata": {},
   "outputs": [
    {
     "data": {
      "text/plain": [
       "'Joint Medical Executive Skills Development Program'"
      ]
     },
     "execution_count": 133,
     "metadata": {},
     "output_type": "execute_result"
    }
   ],
   "source": [
    "data[\"title\"]"
   ]
  },
  {
   "cell_type": "code",
   "execution_count": 135,
   "metadata": {},
   "outputs": [
    {
     "name": "stderr",
     "output_type": "stream",
     "text": [
      "100%|██████████| 1180/1180 [00:25<00:00, 46.40it/s]\n"
     ]
    }
   ],
   "source": [
    "doc_name_dir = {}\n",
    "for path in tqdm(os.listdir(corpus_path)):\n",
    "    best_data = None\n",
    "    for pattern_list in [pattern_set_1, pattern_set_2]:\n",
    "        pattern_str = \"(\" + \"|\".join(pattern_list) + \")\"\n",
    "\n",
    "        with open(os.path.join(corpus_path, path), \"r\") as fp:\n",
    "            data = json.load(fp)\n",
    "        \n",
    "        doc_name_dir[path] = data[\"title\"]\n",
    "\n",
    "        new_data = Hieharchy()\n",
    "        headers = [\"COVER PAGE\"]\n",
    "        texts = []\n",
    "        count = 0\n",
    "        for paragraph in data[\"paragraphs\"]:\n",
    "            s = paragraph[\"par_raw_text_t\"]\n",
    "            matches = re.findall(pattern_str, s, re.DOTALL)\n",
    "            match_levels = [re.findall(pattern, s, re.DOTALL) for pattern in pattern_list]\n",
    "            if len(matches) > 0:\n",
    "                splits = [i for i in re.split(pattern_str, s) if len(i) > 2]\n",
    "                for split in splits:\n",
    "                    if (split in matches) and (split not in headers):\n",
    "                        count+=1\n",
    "                        new_data.update(headers, \". \".join(texts))\n",
    "                        i_level = [i for i, level in enumerate(match_levels) if split in level][0]\n",
    "                        headers = headers[:i_level]\n",
    "                        headers.append(split)\n",
    "                        texts = []\n",
    "                    else:\n",
    "                        texts.append(split.lstrip().rstrip())\n",
    "        if (pattern_list == pattern_set_2) and any([key.startswith(\"SECTION\") for key in new_data.dictionary.keys()]):\n",
    "            best_data = new_data\n",
    "        elif (pattern_list == pattern_set_1) and not any([key.startswith(\"SECTION\") for key in new_data.dictionary.keys()]):\n",
    "            best_data = new_data\n",
    "            \n",
    "        new_folder = \"./../../../../../corpus/sentparse/\"\n",
    "        parsed_path = \".\".join(path.split(\".\")[:-1])+ \"_parsed.json\"\n",
    "        parsed_path = os.path.join(new_folder, parsed_path)\n",
    "\n",
    "    if best_data:\n",
    "        with open(parsed_path, \"w\") as fp:\n",
    "            json.dump(best_data.dictionary, fp)\n",
    "            \n",
    "with open(os.path.join(new_folder, \"metadata.json\"), \"w\") as fp:\n",
    "    json.dump(doc_name_dir, fp)"
   ]
  },
  {
   "cell_type": "code",
   "execution_count": 42,
   "metadata": {},
   "outputs": [],
   "source": [
    "def update2(input_dictionary, new_value, loc):\n",
    "    new_dict = reduce(lambda x, y: {y: x}, reversed(loc), new_value)\n",
    "    input_dictionary.update(new_dict)\n",
    "    return input_dictionary"
   ]
  },
  {
   "cell_type": "code",
   "execution_count": 131,
   "metadata": {},
   "outputs": [
    {
     "name": "stdout",
     "output_type": "stream",
     "text": [
      "['1 .PURPOSE T']\n",
      "['2 . APPLICABILITY T']\n",
      "['3 . GLOSSARY T']\n",
      "['4 . POLICY T']\n",
      "['2 . MTF']\n",
      "['5 . RESPONSIBILITIES']\n",
      "['6 . EFFECTIVE DATE T']\n",
      "['1 .ENCLOSURE']\n",
      "['2 .ENCLOSURE']\n",
      "['1 . AMEDDC&S']\n",
      "['2 . DASD ( HOP )']\n",
      "['3 . DHP']\n",
      "['4 . JMESDG']\n",
      "['5 . JMESDP']\n",
      "['6 . MHS']\n",
      "['7 . MTF']\n",
      "['8 . USUHS']\n",
      "['9 . VMHI']\n",
      "['COVER PAGE', '( a )']\n",
      "['COVER PAGE', '( a )', '( b )']\n",
      "['COVER PAGE', '( a )', '( b )', '( c )']\n",
      "['COVER PAGE', '( a )', '( b )', '( c )', '( d )']\n",
      "['COVER PAGE', '4.2 . MTF']\n",
      "['COVER PAGE', '4.2 . MTF', '( e )']\n",
      "['COVER PAGE', '4.2 . MTF', '( e )', '( f )']\n",
      "['COVER PAGE', '4.2 . MTF', '( e )', '( f )', '( g )']\n",
      "['COVER PAGE', '4.2 . MTF', '( e )', '( f )', '( h )']\n",
      "['COVER PAGE', '1.1 . AMEDDC&S']\n",
      "['COVER PAGE', '1.2 . DASD ( HOP )']\n",
      "['COVER PAGE', '1.3 . DHP']\n",
      "['COVER PAGE', '1.4 . JMESDG']\n",
      "['COVER PAGE', '1.5 . JMESDP']\n",
      "['COVER PAGE', '1.6 . MHS']\n",
      "['COVER PAGE', '1.7 . MTF']\n",
      "['COVER PAGE', '1.8 . USUHS']\n",
      "['COVER PAGE', '1.9 . VMHI']\n"
     ]
    }
   ],
   "source": [
    "path = \"DODI 6000.15.json\"\n",
    "for pattern_list in [pattern_set_1, pattern_set_2]:\n",
    "    pattern_str = \"(\" + \"|\".join(pattern_list) + \")\"\n",
    "\n",
    "    with open(os.path.join(corpus_path, path), \"r\") as fp:\n",
    "        data = json.load(fp)\n",
    "\n",
    "    new_data = Hieharchy()\n",
    "    headers = [\"COVER PAGE\"]\n",
    "    texts = []\n",
    "    count = 0\n",
    "    for paragraph in data[\"paragraphs\"]:\n",
    "        s = paragraph[\"par_raw_text_t\"]\n",
    "        matches = re.findall(pattern_str, s, re.DOTALL)\n",
    "        match_levels = [re.findall(pattern, s, re.DOTALL) for pattern in pattern_list]\n",
    "        if len(matches) > 0:\n",
    "            splits = [i for i in re.split(pattern_str, s) if len(i) > 2]\n",
    "            for split in splits:\n",
    "                if split in matches:\n",
    "                    count+=1\n",
    "                    new_data.update(headers, \". \".join(texts))\n",
    "                    i_level = [i for i, level in enumerate(match_levels) if split in level][0]\n",
    "                    headers = headers[:i_level]\n",
    "                    headers.append(split)\n",
    "                    print(headers)\n",
    "                    texts = []\n",
    "                else:\n",
    "                    texts.append(split.lstrip().rstrip())\n",
    "    if (pattern_list == pattern_set_2) and any([key.startswith(\"SECTION\") for key in new_data.dictionary.keys()]):\n",
    "        best_data = new_data\n",
    "    elif (pattern_list == pattern_set_1) and not any([key.startswith(\"SECTION\") for key in new_data.dictionary.keys()]):\n",
    "        best_data = new_data"
   ]
  },
  {
   "cell_type": "code",
   "execution_count": null,
   "metadata": {},
   "outputs": [],
   "source": []
  },
  {
   "cell_type": "code",
   "execution_count": 44,
   "metadata": {},
   "outputs": [],
   "source": [
    "class LocalCorpus(object):\n",
    "    def __init__(self, directory, return_id = False, min_token_len = 3, verbose = False):\n",
    "        self.directory = directory\n",
    "        self.file_list = [\n",
    "            os.path.join(directory, file)\n",
    "            for file in os.listdir(directory)\n",
    "            if file[-5:] == \".json\"\n",
    "        ]\n",
    "        self.file_list\n",
    "        self.return_id = return_id\n",
    "        self.min_token_len = min_token_len\n",
    "        self.verbose = verbose\n",
    "\n",
    "    def __iter__(self):\n",
    "        if self.verbose:\n",
    "            iterator = tqdm(self.file_list)\n",
    "        else:\n",
    "            iterator = self.file_list\n",
    "\n",
    "        for file_name in iterator:\n",
    "            doc = self._get_doc(file_name)\n",
    "            paragraphs = [\n",
    "                p['par_raw_text_t']\n",
    "                for p in doc['paragraphs']\n",
    "                ]\n",
    "            paragraph_ids = [\n",
    "                p['id']\n",
    "                for p in doc['paragraphs']\n",
    "            ]\n",
    "            for para_text, para_id in zip(paragraphs, paragraph_ids):\n",
    "                tokens = preprocess(para_text, min_len=1)\n",
    "                if len(tokens) > self.min_token_len:\n",
    "                    if self.return_id:\n",
    "                        yield tokens, para_id\n",
    "                    else:\n",
    "                        yield tokens\n",
    "\n",
    "    def _get_doc(self, file_name):\n",
    "        with open(file_name, \"r\") as f:\n",
    "            line = f.readline()\n",
    "            line = json.loads(line)\n",
    "        return line"
   ]
  },
  {
   "cell_type": "code",
   "execution_count": 34,
   "metadata": {},
   "outputs": [
    {
     "name": "stdout",
     "output_type": "stream",
     "text": [
      "Department of Defense INSTRUCTION \n",
      "NUMBER 1402.03 , Volume 2 April 30 , 2014 Incorporating Change 2 , April 20 , 2017 \n",
      "DCMO SUBJECT : Senior Executive Service ( SES ) , Senior Level ( SL ) and Scientific and Professional ( ST ) Personnel Categories in the Do D Fourth Estate : Executive Resources Management References : See Enclosure 1 1 .PURPOSE \n",
      "a . Instruction .This instruction reissues Do D Directive ( Do DD ) 1402.3 ( Reference ( a ) ) as an instruction in accordance with the authority in Do DI 5105.82 and Deputy Secretary of Defense Memorandum ( References ( b ) and ( c ) ) .It is composed of multiple volumes , each containing its own purpose .The purpose of the overall instruction is to establish policy , assign responsibilities , delegate authorities , and provide Do D Fourth Estate entities with supplemental guidance to the policy , laws , and regulations relevant to the administration of the SES , SL , and ST categories , in accordance with Do DD 1403.1 ( Reference ( d ) ) , and pursuant to Title 5 , United States Code ( U.S.C . ) ( Reference ( e ) ) and Title 5 , Code of Federal Regulations ( Reference ( f ) ) .\n",
      "b . Volume .This volume : \n",
      "( 1 ) Establishes policy , assigns responsibilities , and provides procedures for SES executive resources management .\n",
      "( 2 ) Establishes the Do D Fourth Estate Executive Resources Board ( ERB ) pursuant to section 3393 ( b ) of Reference ( e ) and section 317.501 of Reference ( f ) to provide oversight of SES executive resources programs .\n",
      "( 3 ) Incorporates and cancels chapter 1 of Do D 1402.3 H ( Reference ( g ) ) and Director of Administration and Management Memorandum ( Reference ( h ) ) .2 . APPLICABILITY .This volume : \n",
      "a . Applies to OSD , the Office of the Chairman of the Joint Chiefs of Staff and the Joint Staff , the Defense Agencies , the Do D Field Activities , and all other organizational entities in the \n",
      "Do DI 1402.03 V2 , April 30 , 2014 \n",
      "Change 2 , 04/20/2017 2 \n",
      "Do D that are not in the Military Departments or the Combatant Commands , ( referred to collectively in this volume as the “ Do D Fourth Estate ) . ”\n",
      "b . Does not apply to : \n",
      "( 1 ) The Office of the Inspector General of the Department of Defense .\n",
      "( 2 ) Those persons in the Defense Intelligence SES and Defense Intelligence Senior Level positions , established under section 1601 of Title 10 , U.S.C . ( Reference ( i ) ) .\n",
      "( 3 ) Expert and consultant appointments pursuant to section 3109 of Reference ( e ) or highly qualified expert appointments pursuant to section 9903 of Reference ( e ) .3 . POLICY .It is Do D policy that SES executive resources are managed responsibly through ongoing review and analysis , while ensuring SES allocations are distributed to meet mission priorities and pursuant to Reference ( e ) .4 . RESPONSIBILITIES .See Enclosure 2 5 .PROCEDURES .See Enclosure 3 6 .RELEASABILITY .Cleared for public release .This volume is available on the Do D Issuances Website at http://www.dtic.mil/whs/directives . \n",
      "7 . SUMMARY OF CHANGE 2 .The changes to this volume are administrative and update organizational titles , acronyms , and references for accuracy .8 . EFFECTIVE DATE .This volume : is effective April 30 , 2014 .\n",
      "Michael L . Rhodes \n",
      "Director of Administration and Management \n",
      "Do DI 1402.03 V2 , April 30 , 2014 \n",
      "Change 2 , 04/20/2017 3 \n",
      "Enclosures \n",
      "1 . References \n",
      "2 . Responsibilities \n",
      "3 . Procedures \n",
      "4 . ERB Glossary \n",
      "\n",
      "Do DI 1402.03 V2 , April 30 , 2014 \n",
      "Change 2 , 04/20/2017 4 CONTENTS TABLE OF CONTENTS \n",
      "ENCLOSURE 1 : REFERENCES . . . . . . . . . . . . . . . . . . . . . . . . . . . . . . . . . . . . . . . . . . . . . . . . . . . . . . . . . . . . . . . . . . . . . . . . . . . . . . . . . . . . . . . . . . . . . . . . . . . 6 ENCLOSURE 2 : RESPONSIBILITIES . . . . . . . . . . . . . . . . . . . . . . . . . . . . . . . . . . . . . . . . . . . . . . . . . . . . . . . . . . . . . . . . . . . . . . . . . . . . . . . . . . . . . . . . . 7 DEPUTY CHIEF MANAGEMENT OFFICER ( DCMO ) . . . . . . . . . . . . . . . . . . . . . . . . . . . . . . . . . . . . . . . . . . . . . . . . . . . . . . . . 7 UNDER SECRETARY OF DEFENSE FOR PERSONNEL AND READINESS ( USD ( P&R ) ) . . . . . . . . . . . . . . . . . . . . . . . . . . . . . . . . . . . . . . . . . . . . . . . . . . . . . . . . . . . . . . . . . . . . . . . . . . . . . . . . . . . . . . . . . . . . . . . . . . . . . . . . . . . . . . . . . . . . . . . . 7 Do D FOURTH ESTATE COMPONENT HEADS . . . . . . . . . . . . . . . . . . . . . . . . . . . . . . . . . . . . . . . . . . . . . . . . . . . . . . . . . . . . . . . . . . . 7 \n",
      "ENCLOSURE 3 : PROCEDURES . . . . . . . . . . . . . . . . . . . . . . . . . . . . . . . . . . . . . . . . . . . . . . . . . . . . . . . . . . . . . . . . . . . . . . . . . . . . . . . . . . . . . . . . . . . . . . . . . . 8 EXECUTIVE RESOURCES MANAGEMENT . . . . . . . . . . . . . . . . . . . . . . . . . . . . . . . . . . . . . . . . . . . . . . . . . . . . . . . . . . . . . . . . . . . . . . . 8 EXECUTIVE RESOURCES PLANNING ... ... ... ... ... ... ... ... ... ... ... ... ... ... ... ... ... ... ... ... ... ... ... ... ... ... ..8 EXECUTIVE RESOURCES EVALUATION . . . . . . . . . . . . . . . . . . . . . . . . . . . . . . . . . . . . . . . . . . . . . . . . . . . . . . . . . . . . . . . . . . . . . . . . . . 8 ALLOCATION MANAGEMENT . . . . . . . . . . . . . . . . . . . . . . . . . . . . . . . . . . . . . . . . . . . . . . . . . . . . . . . . . . . . . . . . . . . . . . . . . . . . . . . . . . . . . . . . . . . . 9 BIENNIAL REVIEW . . . . . . . . . . . . . . . . . . . . . . . . . . . . . . . . . . . . . . . . . . . . . . . . . . . . . . . . . . . . . . . . . . . . . . . . . . . . . . . . . . . . . . . . . . . . . . . . . . . . . . . . . . . . . . . . 9 Justifications for Requests . . . . . . . . . . . . . . . . . . . . . . . . . . . . . . . . . . . . . . . . . . . . . . . . . . . . . . . . . . . . . . . . . . . . . . . . . . . . . . . . . . . . . . . . . . . . . . . . . 10 Submission Priorities . . . . . . . . . . . . . . . . . . . . . . . . . . . . . . . . . . . . . . . . . . . . . . . . . . . . . . . . . . . . . . . . . . . . . . . . . . . . . . . . . . . . . . . . . . . . . . . . . . . . . . . . . 10 OUT OF CYCLE REQUESTS . . . . . . . . . . . . . . . . . . . . . . . . . . . . . . . . . . . . . . . . . . . . . . . . . . . . . . . . . . . . . . . . . . . . . . . . . . . . . . . . . . . . . . . . . . . . . . . 10 NON SES ALLOCATIONS . . . . . . . . . . . . . . . . . . . . . . . . . . . . . . . . . . . . . . . . . . . . . . . . . . . . . . . . . . . . . . . . . . . . . . . . . . . . . . . . . . . . . . . . . . . . . . . . . . . . 11 TEMPORARY ALLOCATIONS FOR DEVELOPMENTAL PURPOSES . . . . . . . . . . . . . . . . . . . . . . . . . . 11 POSITION DESIGNATIONS . . . . . . . . . . . . . . . . . . . . . . . . . . . . . . . . . . . . . . . . . . . . . . . . . . . . . . . . . . . . . . . . . . . . . . . . . . . . . . . . . . . . . . . . . . . . . . . . . 11 General Positions . . . . . . . . . . . . . . . . . . . . . . . . . . . . . . . . . . . . . . . . . . . . . . . . . . . . . . . . . . . . . . . . . . . . . . . . . . . . . . . . . . . . . . . . . . . . . . . . . . . . . . . . . . . . . . . 11 Career Reserved Positions . . . . . . . . . . . . . . . . . . . . . . . . . . . . . . . . . . . . . . . . . . . . . . . . . . . . . . . . . . . . . . . . . . . . . . . . . . . . . . . . . . . . . . . . . . . . . . . . . 11 Changing Position Designations . . . . . . . . . . . . . . . . . . . . . . . . . . . . . . . . . . . . . . . . . . . . . . . . . . . . . . . . . . . . . . . . . . . . . . . . . . . . . . . . . . . . . . . . 12 APPOINTMENT AUTHORITIES . . . . . . . . . . . . . . . . . . . . . . . . . . . . . . . . . . . . . . . . . . . . . . . . . . . . . . . . . . . . . . . . . . . . . . . . . . . . . . . . . . . . . . . . . . 12 Non Career Appointment Authority . . . . . . . . . . . . . . . . . . . . . . . . . . . . . . . . . . . . . . . . . . . . . . . . . . . . . . . . . . . . . . . . . . . . . . . . . . . . . . . . . . 12 Limited Appointment Authority . . . . . . . . . . . . . . . . . . . . . . . . . . . . . . . . . . . . . . . . . . . . . . . . . . . . . . . . . . . . . . . . . . . . . . . . . . . . . . . . . . . . . . . . 13 \n",
      "ENCLOSURE 4 : ERB . . . . . . . . . . . . . . . . . . . . . . . . . . . . . . . . . . . . . . . . . . . . . . . . . . . . . . . . . . . . . . . . . . . . . . . . . . . . . . . . . . . . . . . . . . . . . . . . . . . . . . . . . . . . . . . . . . 15 ERB PURPOSE . . . . . . . . . . . . . . . . . . . . . . . . . . . . . . . . . . . . . . . . . . . . . . . . . . . . . . . . . . . . . . . . . . . . . . . . . . . . . . . . . . . . . . . . . . . . . . . . . . . . . . . . . . . . . . . . . . . . . . . 15 ERB MEMBERSHIP . . . . . . . . . . . . . . . . . . . . . . . . . . . . . . . . . . . . . . . . . . . . . . . . . . . . . . . . . . . . . . . . . . . . . . . . . . . . . . . . . . . . . . . . . . . . . . . . . . . . . . . . . . . . . . . 15 Permanent Membership . . . . . . . . . . . . . . . . . . . . . . . . . . . . . . . . . . . . . . . . . . . . . . . . . . . . . . . . . . . . . . . . . . . . . . . . . . . . . . . . . . . . . . . . . . . . . . . . . . . . . 15 Sub ERB Membership . . . . . . . . . . . . . . . . . . . . . . . . . . . . . . . . . . . . . . . . . . . . . . . . . . . . . . . . . . . . . . . . . . . . . . . . . . . . . . . . . . . . . . . . . . . . . . . . . . . . . . . 16 Ad Hoc Members . . . . . . . . . . . . . . . . . . . . . . . . . . . . . . . . . . . . . . . . . . . . . . . . . . . . . . . . . . . . . . . . . . . . . . . . . . . . . . . . . . . . . . . . . . . . . . . . . . . . . . . . . . . . . . . 16 SUB ERB COMMITTEES OR PANELS . . . . . . . . . . . . . . . . . . . . . . . . . . . . . . . . . . . . . . . . . . . . . . . . . . . . . . . . . . . . . . . . . . . . . . . . . . . . . . . 17 Executive Evaluation Panel ( EEP ) . . . . . . . . . . . . . . . . . . . . . . . . . . . . . . . . . . . . . . . . . . . . . . . . . . . . . . . . . . . . . . . . . . . . . . . . . . . . . . . . . . . . . 17 EEP Membership . . . . . . . . . . . . . . . . . . . . . . . . . . . . . . . . . . . . . . . . . . . . . . . . . . . . . . . . . . . . . . . . . . . . . . . . . . . . . . . . . . . . . . . . . . . . . . . . . . . . . . . . . . . . . . . 17 Tiers . . . . . . . . . . . . . . . . . . . . . . . . . . . . . . . . . . . . . . . . . . . . . . . . . . . . . . . . . . . . . . . . . . . . . . . . . . . . . . . . . . . . . . . . . . . . . . . . . . . . . . . . . . . . . . . . . . . . . . . . . . . . . . . . . . . 17 Tier Management . . . . . . . . . . . . . . . . . . . . . . . . . . . . . . . . . . . . . . . . . . . . . . . . . . . . . . . . . . . . . . . . . . . . . . . . . . . . . . . . . . . . . . . . . . . . . . . . . . . . . . . . . . . . . . . 18 Executive Development Committee ( EDC ) . . . . . . . . . . . . . . . . . . . . . . . . . . . . . . . . . . . . . . . . . . . . . . . . . . . . . . . . . . . . . . . . . . . . . . . 19 Talent and Succession Management Panel . . . . . . . . . . . . . . . . . . . . . . . . . . . . . . . . . . . . . . . . . . . . . . . . . . . . . . . . . . . . . . . . . . . . . . . . 19 \n",
      "Do DI 1402.03 V2 , April 30 , 2014 \n",
      "Change 2 , 04/20/2017 5 CONTENTS \n",
      "APPENDIX TIER CHARACTERISTICS AND INDICATORS . . . . . . . . . . . . . . . . . . . . . . . . . . . . . . . . . . . . . . . . . . . . . . . . . . . . . . . . . . 20 GLOSSARY . . . . . . . . . . . . . . . . . . . . . . . . . . . . . . . . . . . . . . . . . . . . . . . . . . . . . . . . . . . . . . . . . . . . . . . . . . . . . . . . . . . . . . . . . . . . . . . . . . . . . . . . . . . . . . . . . . . . . . . . . . . . . . . . . . 23 \n",
      "PART I : ABBREVIATIONS AND ACRONYMS . . . . . . . . . . . . . . . . . . . . . . . . . . . . . . . . . . . . . . . . . . . . . . . . . . . . . . . . . . . . . . . . 23 \n",
      "PART II : DEFINITIONS . . . . . . . . . . . . . . . . . . . . . . . . . . . . . . . . . . . . . . . . . . . . . . . . . . . . . . . . . . . . . . . . . . . . . . . . . . . . . . . . . . . . . . . . . . . . . . . . . . . . . . . . . 24 TABLES 1 .Tier 3 – Characteristics and Indicators . . . . . . . . . . . . . . . . . . . . . . . . . . . . . . . . . . . . . . . . . . . . . . . . . . . . . . . . . . . . . . . . . . . . . . . . . . . . . . . 20 2 .Tier 2 – Characteristics and Indicators . . . . . . . . . . . . . . . . . . . . . . . . . . . . . . . . . . . . . . . . . . . . . . . . . . . . . . . . . . . . . . . . . . . . . . . . . . . . . . . 21 3 .Tier 1 – Characteristics and Indicators . . . . . . . . . . . . . . . . . . . . . . . . . . . . . . . . . . . . . . . . . . . . . . . . . . . . . . . . . . . . . . . . . . . . . . . . . . . . . . . 22 \n",
      "Do DI 1402.03 V2 , April 30 , 2014 \n",
      "Change 2 , 04/20/2017 6 ENCLOSURE 1 ENCLOSURE 1 \n",
      "REFERENCES ( a )Do D Directive 1402.3 , “ Administration of the Senior Executive Service Program in the Office of the Secretary of Defense and the Defense Agencies , ” August 16 , 1984 ( cancelled by volume 1 of this instruction ) ( b )Do D Directive 5105.82 , “ Deputy Chief Management Officer ( DCMO ) of the Department of Defense , ” October 17 , 2008 ( c ) Deputy Secretary of Defense Memorandum , “ Reorganization of the Office of the Deputy Chief Management Officer , ” July 11 , 2014 ( d ) Do D Directive 1403.1 , “ The Senior Executive Service and Equivalent Level Positions and Personnel , ” October 18 , 1982 ( e ) Title 5 , United States Code ( f ) Title 5 , Code of Federal Regulations ( g ) Chapter 1 of Do D Handbook 1402.3 H , “ Executive Resources Board , ” May 1985 ( hereby cancelled ) ( h )Director of Administration and Management Memorandum , “ SES Resource Allocation Committee , ” November 14 , 2007 ( hereby cancelled ) ( i )Title 10 , United States Code ( j ) United States Government Policy and Supporting Positions , 2013 ( Plum Book ) ( k )Do D Directive 1403.03 , “ The Career Lifecycle Management of the Senior Executive Service Leaders Within the Department of Defense , ” October 25 , 2007 \n",
      "Do DI 1402.03 V2 , April 30 , 2014 \n",
      "Change 2 , 04/20/2017 7 ENCLOSURE 2 ENCLOSURE 2 \n",
      "RESPONSIBILITIES 1 .DEPUTY CHIEF MANAGEMENT OFFICER OF THE DEPARTMENT OF DEFENSE .The Deputy Chief Management Officer , through the Director of Administration , Office of the Deputy Chief Management Officer ( DA ODCMO ) : \n",
      "a . Serves as the vice chair of the ERB and approves ERB membership .\n",
      "b . Issues internal written operating procedures for the Do D Fourth Estate implementing the provisions of part 317 , subpart E of Reference ( f ) regarding executive resources management .\n",
      "c . Approves and reallocates resources and makes tier designations under the authority , direction , and control of the Deputy Secretary of Defense ( Dep Sec Def ) .\n",
      "d . Delegates the authority bestowed by the Secretary of Defense ( Sec Def ) as deemed appropriate to provide oversight of civilian personnel management within the Fourth Estate , and other assigned activities , to include the management , coordination , appointment , evaluation , and compensation of executive and political personnel in OSD and other assigned Fourth Estate activities .2 . UNDER SECRETARY OF DEFENSE FOR PERSONNEL AND READINESS ( USD ( P&R ) ) .The USD ( P&R ) : \n",
      "a . Possesses full authority for total force management to include all Do D civilian personnel requirements .\n",
      "b . Exercises overall supervision and policy oversight of human capital .In this capacity , the USD ( P&R ) allocates civilian personnel authorizations to the Do D Components relating to civilian personnel , whether established by law , regulation , or other action .The USD ( P&R ) is the liaison with the U.S . Office of Personnel Management ( OPM ) for SES allocations and policy direction .3 . Do D FOURTH ESTATE COMPONENT HEADS .The Do D Fourth Estate Component heads ensure that nominations for the ERB are provided in accordance with the procedures in this volume and that their organization actively engages in the ERB and associated committees and panels by providing members upon request .\n",
      "Do DI 1402.03 V2 , April 30 , 2014 \n",
      "Change 2 , 04/20/2017 8 ENCLOSURE 3 ENCLOSURE 3 \n",
      "PROCEDURES 1 .EXECUTIVE RESOURCES MANAGEMENT .The OPM is responsible for leadership and oversight of the SES and other executive personnel systems government wide , and each federal agency head makes decisions regarding how best to use the executive spaces OPM allocates to the agency .How well each agency manages its executive resources determines its ability to accomplish its mission and to improve government , both through the quality of the executives it attracts and retains and the teamwork that good management creates .Within the Do D Fourth Estate , executive resources are managed primarily through the ERB .2 . EXECUTIVE RESOURCES PLANNING .The executive resources planning process begins with a strategic analysis of current and future executive resource needs , followed by on going evaluations as vacancies become available and mission requirements change .Do D Fourth Estate Component heads will : \n",
      "a . Identify current and anticipated vacancies of SES , SL , and ST positions .\n",
      "b . Analyze the organization to eliminate unnecessary management layers .\n",
      "c . Review each vacant and occupied position in terms of mission , strategic plans and budget projections , and identify positions that will be abolished or restructured to reflect new priorities and goals .\n",
      "d . Analyze positions to determine if individual positions are classifiable above the GS 15 level and if they will be SES , SL , or ST positions .\n",
      "e . Prioritize supportable SES , SL , or ST positions .3 . EXECUTIVE RESOURCES EVALUATION .Do D Fourth Estate Component heads will monitor SES resources on a continuous basis to ensure that SES positions are used to respond effectively to changing conditions .It is good management to reassess and reprioritize SES positions in light of the organization ’s current program requirements , either on an ad hoc basis ( as they become vacant ) or as part of a comprehensive review .This identifies any changes in the duties and responsibilities of the positions since they were established or last reviewed .The approach to an SES position review provides a systematic basis to reaffirm or adjust the distribution of SES resources and respond to an organization ’s current requirements .Organizations will monitor SES resource management on a continuous basis to ensure that SES positions are used to respond effectively to changing conditions .Periodic evaluations , especially those in advance of the biennial allocation request to OPM , will take into account : \n",
      "Do DI 1402.03 V2 , April 30 , 2014 \n",
      "Change 2 , 04/20/2017 9 ENCLOSURE 3 \n",
      "a . The extent to which the organization has successfully accomplished its mission objectives ; changes in program priorities and emphasis , as reflected in budget or legislative developments ; or the vacancy attrition rate .\n",
      "b . The number of vacant SES positions , the length of their vacancy , and circumstances surrounding vacancies where the request to recruit has not been initiated within 90 days of the vacancy .\n",
      "c . Changes in the duties and responsibilities of individual SES positions that could affect the extent to which the positions continue to satisfy SES criteria .4 . ALLOCATION MANAGEMENT \n",
      "a . OPM allocates spaces to the head of each federal agency on a biennial cycle as specified in law .Flexibility is built into the allocation process to allow for necessary adjustments ; however , the extent of such adjustments is limited .Organizations are expected to manage their executive resource needs within the levels set during the biennial allocation process to include : \n",
      "( 1 ) Reprogramming existing resources to meet the agency ’s highest priority requirements .\n",
      "( 2 ) Maintaining sufficient flexibility to meet unanticipated needs .When it is not possible to accommodate needs in a timely manner , the Washington Headquarters Services ( WHS ) , Human Resources Directorate ( HRD ) , OSD Senior Executive Management Office ( SEMO ) will work with Do D Fourth Estate entities to identify alternatives to include the possible use of a temporary allocation .\n",
      "b . The OSD SEMO manages the allocation of SES and equivalent positions under the DA ODCMO ’s purview .\n",
      "c . Allocations are distributed among OSD Principal Staff Assistants ( PSAs ) by the DA ODCMO based on Do D missions , requirements , and historical composition .If a PSA ’s requirements exceed the established allocations , Do D Fourth Estate entities can request for a Secretary of Defense Reserve Pool ( SDRP ) or lapse rate resource .A justification for the resource along with full recruitment documentation , as established in volume 3 of this instruction , is required .SDRP and lapse rate resources are temporary in nature , not to exceed 2 years in length .Enduring requirements must be submitted as part of the biennial review or outof cycle request process .Additionally , manpower billets must also be obtained for SES allocations in order to establish a position .5 . BIENNIAL REVIEW .Pursuant to section 3133 of Reference ( g ) , during each evennumbered calendar year , the Do D must examine their SES position needs and submit a written request to OPM for a specific number of SES position allocations for the two succeeding fiscal years ( FYs )( e.g . , a request in December 2010 , which is in FY 2011 , would be for the FY \n",
      "Do DI 1402.03 V2 , April 30 , 2014 \n",
      "Change 2 , 04/20/2017 10 ENCLOSURE 3 2012/2013 biennial cycle ) .OPM responds with a call for detailed justification of agency allocation requests .This justification may be required from all agencies or from a subset of agencies ( e.g . , only those requesting an increase in allocations ) .\n",
      "a . Justifications for Requests .Submissions for new allocations under the biennial review must identify the specific positions ( by title and organizational location ) .Justifications must be accompanied with position descriptions and organizational charts .\n",
      "( 1 ) Describe the circumstances for the need ( e.g . , legislative mandate or Presidential directive ; new agency mission or expanded agency program ; succession planning requirements or issues raised by the Office of Management and Budget ( OMB ) ; mission requirement ; span of control ; and reporting relationship ) .\n",
      "( 2 ) Identify source of funding or other resources to support the new or expanded initiative ( s ) .If resources are reprogrammed within the Do D , identify the functions from which resources are being diverted .\n",
      "( 3 ) Specify the results expected from each additional position ( e.g . , improvement in program management or efficiency or meeting administration goals ) .\n",
      "b . Submission Priorities .Submissions must prioritize all current ( i.e . , established ) and proposed positions , whether vacant or encumbered , in terms of their relative contributions to the agency ’s mission requirements .\n",
      "( 1 ) Organizational wide goals and objectives must be identified and prioritized .While an executive may believe a particular position ( e.g . , a deputy or assistant ) is critical to his or her specific program area , the position may not rank as high in relation to the organization ’s mission .\n",
      "( 2 ) Positions in the lowest priority category are those that present opportunities for reprogramming of executive resources , ( i.e . , positions that may be filled at a lower level or abolished ) , as turnover occurs , or positions from which the current incumbent may be reassigned if an appropriate opportunity is identified .Provide an analysis ( including estimated time frames ) of how the organization can best meet its highest priority needs by redirecting resources from lower priority areas .\n",
      "( 3 ) Other considerations may also include changes in functions or programs , overall funding levels , number of vacancies and length of time vacant , and the extent positions do not appear to meet SES criteria .6 . OUT OF CYCLE REQUESTS .OPM gives Do D the opportunity to submit out of cycle requests in the event new , high priority requirements emerge between biennial reviews and existing resources are exhausted .When the USD ( P&R ) issues a call for requests for additional resources , the OSD SEMO will forward that request to the Fourth Estate entities and require the information outlined in section 5 of this enclosure be provided .\n",
      "Do DI 1402.03 V2 , April 30 , 2014 \n",
      "Change 2 , 04/20/2017 11 ENCLOSURE 3 7 .NON SES ALLOCATIONS .The biennial SES allocation cycle is also used to obtain SL and ST allocations as described in section 5 of this enclosure .\n",
      "8 . TEMPORARY ALLOCATIONS FOR DEVELOPMENTAL PURPOSES .OPM may grant a temporary space to support a federal agency sending an executive or senior professional on a short term assignment ( e.g . , an interagency detail ) , during which the individual occupies an agency space even though he or she is not available to work for the agency .The temporary space compensates an agency because the executive continues to fill an agency space while on detail .Examples of short term assignments include certain intra agency details , Intergovernmental Personnel Act ( IPA ) Mobility Program assignments , short term transfers that involve a re employment right ( e.g . , to an international organization ) , and short term reassignments if the position to which the individual would be reassigned cannot be established within the agency ’s current allocation .Requests for a temporary space should be submitted to the OSD SEMO .Information required for a temporary allocation to support continuing development of an SES , SL , or ST employee , includes : \n",
      "a . The individual 's name , position , organizational component , location , and current appointment type .\n",
      "b . Description of the developmental assignment .Identify the position to which the individual will be assigned ; the type of assignment , ( e.g . , detail , transfer , reassignment ) , including any applicable statutory or regulatory authority , such as the IPA Mobility Program or details or transfers to international organizations ; the agency , organizational component and location ; and the planned duration of the assignment .\n",
      "c . Identification of the challenges or development opportunities the assignment will provide that the individual has not had in previous positions .\n",
      "d . Description of the agency ’s future plans for the individual , presuming the anticipated benefits of the developmental assignments are fully realized , including the position ( s ) that this assignment will prepare the individual to assume .9 . POSITION DESIGNATIONS .SES positions are designated as either general or career reserved .\n",
      "a . General Positions .General positions may be filled by career , non career , or limited appointees .The same general position may be filled by a career appointee at one time and by a non career or limited appointee at another time .However , a career reserved position must be filled by a career appointee .There are no non career or career positions in the SES , only noncareer or career appointments .General positions are listed in the United States Government Policy and Supporting Positions ( Reference ( j ) ) , published every 4 years after the Presidential election .\n",
      "b . Career Reserved Positions .A position should be designated career reserved if it must be filled by a career appointee to ensure the impartiality , or the public ’s confidence in the \n",
      "Do DI 1402.03 V2 , April 30 , 2014 \n",
      "Change 2 , 04/20/2017 12 ENCLOSURE 3 impartiality of the government .Section 214.402 of Reference ( f ) establishes the criteria to determine if a position is to be designated as career reserved .\n",
      "( 1 ) These positions involve day to day operations that are not responsible for , or substantially involved in , the determination or public advocacy of major controversial policies of the administration or Do D in these occupational disciplines : adjudication and appeals ; audit and inspection ; civil or criminal law enforcement and compliance ; contract administration and procurement ; grants administration ; investigation and security matters ; or tax liability , including the assessment or collection of taxes and the preparation or review of interpretative opinions .\n",
      "( 2 ) Career reserved positions also include : \n",
      "( a ) Scientific or other highly technical or professional positions where duties and responsibilities must be filled by career appointees to ensure impartiality .\n",
      "( b ) Other positions requiring impartiality or the public ’s confidence in impartiality , as determined by the Do D agency in light of its mission .\n",
      "( c ) Positions that are specifically required by law to be career reserved or to be filled by a career appointee .\n",
      "c . Changing Position Designations .Once a position designation has been made , it may not be changed without written approval from OPM .Requests for designation changes should be sent to WHS , HRD , OSD SEMO .The request should be submitted by the Principal Staff Assistant and describe the circumstances that warrant the change in designation .10 .APPOINTMENT AUTHORITIES .There are four types of SES appointment authorities : career , non career , limited term , and limited emergency ( sections 3132 ( a ) , 3393 , and 3394 of Reference ( e ) and Part 317 , subparts E and F of Reference ( f ) ) .\n",
      "a . Non Career Appointment Authority .Non career appointment allocations for all Do D Components are made to the Sec Def .Adjustments in the number of SES appointment authorities are limited by law .\n",
      "( 1 ) Pursuant to section 3134 of Reference ( e ) , the total number of SES non career appointees in all agencies may not exceed 10 percent of the total number of SES positions in all agencies .Additionally , the total number of SES non career appointees may not at any time exceed the greater of 25 percent of the total number of Do D ’s SES positions ; or the number of positions filled on October 13 , 1978 by non career executive assignments under subpart F of part 305 of Reference ( f ) , as in effect on such date ; or total number of appointments to level IV or V of the Executive Schedule not requiring Senate confirmation , as of that date .\n",
      "( 2 ) Each use of a non career appointment authority must be approved individually by OPM , and the authority reverts to OPM upon departure of the incumbent .In this way , OPM continuously resets the number of non career appointment authorities in each agency , ensures the \n",
      "Do DI 1402.03 V2 , April 30 , 2014 \n",
      "Change 2 , 04/20/2017 13 ENCLOSURE 3 10 percent government wide limit is not exceeded , and meets OPM ’s statutory obligation to determine the number of non career allocations for each agency annually .\n",
      "( 3 ) The OSD SEMO initiates a request for a non career appointment authority by entering the request into OPM ’s Executive and Schedule C System ( ESCS ) .Each request must be for a named individual to fill a specific SES general position .\n",
      "( a ) ESCS generates an OPM Form 1652 , “ Request for SES Appointment Authority , ” for documentation of approvals .This form , along with a resume or autobiography and a position description , is coordinated with the White House Liaison Office and approved by the DA ODCMO .After completing the OPM Form 1652 , the OSD SEMO forwards it to OPM .\n",
      "( b ) Upon OPM approval , the individual may be appointed to the position upon the previous incumbent ’s departure .There is no provision for overlap or dual incumbency of a position .SES non career appointment authorities are made on a case by case basis and are valid only for the individual and position approved .\n",
      "b . Limited Appointment Authority .Pursuant to section 3134 ( e ) of Reference ( e ) , the total number of limited term appointees and limited emergency appointees may not exceed 5 percent of the total number of SES positions in all agencies .\n",
      "( 1 ) Pursuant to section 317.601 of Reference ( f ) , Do D is provided a pool of limited appointment authorities equal to 3 percent of Do D ’s total SES allocations .These authorities may be used by the Sec Def without prior OPM approval .The appointee must be a career or career type appointee ( or an appointment of equivalent tenure ) in a permanent civil service position outside the SES .The pool authorities may not be used to appoint a retired SES member .Any use of of a limited appointment authority other than as described in this paragraph must be approved individually by OPM , and the authority reverts to OPM upon departure of the incumbent , unless otherwise provided by OPM .\n",
      "( 2 ) OPM approval of a limited appointment authority does not imply authorization of an additional SES space allocation .\n",
      "( a ) Limited term and limited emergency appointments count against the Do D ’s SES allocation .\n",
      "( b ) An additional SES allocation must be requested by the OSD SEMO if there is no available allocation to use to appoint an approved limited term or limited emergency appointee .\n",
      "( c ) Requests for limited term and limited emergency appointment authorities are considered on an ad hoc basis upon submission of a written justification that outlines the circumstances warranting use of the authority .\n",
      "( d ) Requests for limited term appointments are also created in ESCS by the OSD SEMO .\n",
      "Do DI 1402.03 V2 , April 30 , 2014 \n",
      "Change 2 , 04/20/2017 14 ENCLOSURE 3 \n",
      "( e ) OPM must approve each authority outside of the Do D 3 percent pool .Generally , agencies are expected to exhaust their pool authorities before requesting OPM approval of a limited term or limited emergency appointment authority , provided the proposed appointee meets the requirement for holding career or career type appointments outside the SES .\n",
      "\n",
      "Do DI 1402.03 V2 , April 30 , 2014 \n",
      "Change 2 , 04/20/2017 15 ENCLOSURE 4 ENCLOSURE 4 \n",
      "ERB 1 .ERB PURPOSE .In accordance with section 317.501 of Reference ( f ) , the Sec Def appoints one or more ERBs to conduct the merit staffing process for career appointments .Additionally , the ERB performs the strategic planning processes as defined in Do DD 1403.03 ( Reference ( k ) ) , with knowledge of SES staffing , tier management , talent and succession management , and executive development functions for the Do D Fourth Estate .Positions classified as “ Defense Intelligence SES ” are excluded in accordance with the provisions of Reference ( k ) .2 . ERB MEMBERSHIP .The Do D Fourth Estate primary ERB comprises permanent members that meet as required to address critical , high level executive issues involving significant departmental impact .A subordinate , working ERB presides over day to day management of executive matters such as facilitation of merit staffing procedures , tier designation determinations , executive development , and talent and succession management .\n",
      "a . Permanent Membership .The permanent membership of the ERB is designated by position , including the roles of chair , vice chair , and executive secretary .However , if the Sec Def has designated an individual to serve as chair , that individual only serves for a 2 year term .\n",
      "( 1 ) ERB Chair .The Sec Def designates the ERB Chair .This position is usually held by the Dep Sec Def , but may be filled from among the Under Secretaries or Assistant Secretaries of Defense , as necessary .The ERB Chair : \n",
      "( a ) Convenes ERB meetings , as required , to provide effective governance over SES lifecycle management .\n",
      "( b ) Presides over the ERB and establishes ERB committees to facilitate the accomplishment of ERB business .\n",
      "( 2 ) ERB Vice Chair .The DA ODCMO serves as the ERB Vice Chair .The vice chair works in concert with the chair in managing activities of the ERB and serves with full authority in the chair ’s absence .\n",
      "( 3 ) ERB Executive Secretary .The Director , HRD , serves as the ERB Executive Secretary and is a non voting member of the ERB .This designation may be re delegated by the Director , HRD .The Assistant Director ( AD ) , OSD SEMO , serves as the alternate Executive Secretary for the ERB and subsequent panels requiring documentation .The alternate ERB Executive Secretary is a non voting member of the ERB .\n",
      "( 4 ) Under Secretary of Defense for Acquisition , Technology , and Logistics \n",
      "( 5 ) Under Secretary of Defense for Policy \n",
      "Do DI 1402.03 V2 , April 30 , 2014 \n",
      "Change 2 , 04/20/2017 16 ENCLOSURE 4 \n",
      "( 6 ) Under Secretary of Defense ( Comptroller ) /Chief Financial Officer , Department of Defense \n",
      "( 7 ) USD ( P&R ) \n",
      "( 8 ) Deputy Chief Management Officer \n",
      "( 9 ) Do D Chief Information Officer \n",
      "( 10 ) General Counsel of the Department of Defense \n",
      "b . Sub ERB Membership .The primary function of the Sub ERB is to conduct merit staffing functions .The Sub ERB serves as an executive pool used to establish necessary committees and panels requiring executive representation .The AD , OSD SEMO , solicits nominations to maintain Sub ERB membership .All Sub ERB members are submitted for approval by the DA ODCMO on an annual basis or as needed or requested by the AD , OSD SEMO .Sub ERB members are determined based on each PSA ’s and the Joint Chiefs of Staff ’s respective SES allocation and comprises a diverse group of men , women , and functional areas of expertise .\n",
      "( 1 ) Nominations for the Sub ERB are solicited annually from the Do D Fourth Estate Component heads .\n",
      "( a ) Members are appointed by the DA ODCMO .\n",
      "( b ) Members must be career or non career SES members , presidential appointees , Defense Intelligence Senior Executives or commissioned officers of the uniformed services serving on active duty at the O 7 level or above , and within the Do D Fourth Estate .However , in order to provide continuity and institutional memory , the majority of membership is career SES members .\n",
      "( c ) Members are designated from among top line management officials with responsibility for a major portion of their organization ’s budget and significant numbers of the organization 's SES positions .\n",
      "( d ) The number of members serving on the ERB is based on the SES population within the Do D Fourth Estate .\n",
      "( 2 ) Members are appointed for 2 year terms .For purposes of continuity , replacement members serve new 2 year terms .Existing members continue to serve until new membership and replacement members are approved .\n",
      "c . Ad Hoc Members .Ad hoc members may be called by the chair or vice chair to provide advice , insight , and assistance as required .\n",
      "Do DI 1402.03 V2 , April 30 , 2014 \n",
      "Change 2 , 04/20/2017 17 ENCLOSURE 4 3 .SUB ERB COMMITTEES OR PANELS .Committees and panels will be established as needed to support Sub ERB requirements related to SES matters .Some committees designated as standing committees , as those described in this section , must be composed of at least one or more permanent Sub ERB members ( unless otherwise indicated ) and approved by the DA ODCMO .Heads of these committees and panels is based on seniority .\n",
      "a . Executive Evaluation Panel ( EEP ) .In accordance with section 3393of Reference ( e ) , an ERB is required to review and evaluate all competitive merit staffing functions associated with recruitment for SES vacancies , to include selection , pay setting , and assignments .For the Do D Fourth Estate , EEPs serve as ad hoc panels that perform the competitive merit staffing responsibilities .Operating procedures for the EEP are in volume 3 of this instruction .While the EEP constitutes the Sub ERB ’s largest role , sub ERB membership is also used to provide evaluation and certification of the completion of program requirements for Presidential Management Fellows in accordance with part 362 , subpart D , of Reference ( f ) .\n",
      "b . EEP Membership .The EEP comprises of at least three SES members , or their military equivalent ( i.e . , 07 level or higher ) , including a chair , a member of the ERB , and a third member from outside the hiring component or supervisory chain .At least one Sub ERB member must be on the EEP and is responsible for the : \n",
      "( 1 ) Review of technical and executive qualifications of each candidate for a position to be filled competitively by a career appointee .\n",
      "( 2 ) Oversight of the minority and female recruitment outreach efforts of candidates recommended for referral , if desired .\n",
      "( 3 ) Validation or modification and approval of referral certificates of best qualified candidates proposed by panel members .Modifications ( e.g . , omission or administrative error ) must be revalidated by the ERB member .\n",
      "( 4 ) EEP certifies that merit staffing procedures are conducted in accordance with section 317.501 ( c ) of Reference ( f ) .\n",
      "c . Tiers .The Do D Fourth Estate uses a three tier structure as a means of ensuring comparability and transparency in executive positions and compensation management across the department .The tier structure is built upon the foundational principle that executive positions vary in terms of impact on mission , level of complexity , span of control , inherent authority , scope and breadth of responsibility , and influence in joint , national security matters .The tier structure is a tool to promote a common understanding of position differences , a common perspective about the relationship of these differences in mission outcomes , and a common language to identify these differences .\n",
      "( 1 ) Executive positions are sorted into three tiers based upon the position characteristics described in Tables 1 , 2 , and 3 in the appendix of this enclosure .The hierarchy resembles the general or flag officer ( GO/FO ) hierarchy with tier one positions ( one star equivalent ) generally having less complexity and impact on mission outcomes and tier three positions( three star \n",
      "Do DI 1402.03 V2 , April 30 , 2014 \n",
      "Change 2 , 04/20/2017 18 ENCLOSURE 4 equivalent ) having significant complexity , impact on mission outcomes , or influence on joint , national security matters .\n",
      "( 2 ) Enterprise positions are generally designated as tier three positions as well as other executive positions meeting the characteristics described in Table 1 of the appendix to this enclosure .\n",
      "d . Tier Management .This is the process of evaluating SES positions ( career , non career , limited term and limited emergency ) for placement in one of three tiers based upon the position characteristics for each tier .Tier management is performed by the Tier Management Panel ( TMP ) .\n",
      "( 1 ) TMP members are assigned certain organizations for review of position tier designations .Positions are reviewed by a pre determined two member team and endorsed by the TMP chair .If there is no consensus , all tier panel members are called to review the position .\n",
      "( 2 ) For requests for new SES positions , the TMP chair requests a recommendation from the TMP members who originally reviewed positions in the requesting organization .If the reviewing TMP two member team is in agreement with the PSA ’s or Joint Chiefs of Staff ’s request for placement , the tier panel will agree .If the TMP two member team is not in agreement , the TMP chair discusses with all tier panel members and reaches a consensus .The TMP chair approves all requests for positions at the tier one level that meet the grade level and functional criteria for placement in the SES .There is no requirement for additional review or discussion .\n",
      "( 3 ) For changes to existing positions , the TMP chair asks TMP members to review and meet to discuss with all members , whether agreed to by the original two member team or not .\n",
      "( 4 ) If the TMP does not agree with a PSA or Joint Chiefs of Staff ’s recommendation , the PSA may present additional , stronger evidence or justification for his or her recommendation .The TMP chair , along with TMP members who reviewed the request , meets with the PSA to try to resolve the issues .If there is no resolution between the TMP and PSA , the position goes forward to the DA ODCMO for decision .Both parties present their rationale to the AD , EPP Division , who prepares the decision package to the DA ODCMO for final resolution .\n",
      "( 5 ) Organizations submitting tier requests for new requirements must include : \n",
      "( a ) A justification statement that describes the scope of responsibility for the new requirements , the particular unforeseen mission critical emergency giving rise to the need ( e.g . , legislative mandate , Presidential directive , or Sec Def requirement ) .\n",
      "( b ) The level of responsibility , complexity of portfolio , scope of influence , and impact on mission of the new or revised position .\n",
      "( c ) The number and grades of the personnel the incumbent would supervise ( for supervisory positions ) including the tier level of any subordinate SES position .\n",
      "Do DI 1402.03 V2 , April 30 , 2014 \n",
      "Change 2 , 04/20/2017 19 ENCLOSURE 4 \n",
      "( d ) The signed OF 8 ( Position Description ) for each proposed new SES .\n",
      "( e ) The organizational charts highlighting where the position resides within the organization and structure under the newly established position .Charts should depict the position ’s peers and subordinates \n",
      "( 6 ) The DA ODCMO administers periodic tier reviews of the Do D Fourth Estate to ensure consistency and equity across the Do D Fourth Estate .\n",
      "e . Executive Development Committee ( EDC ) .The EDC oversees the administration of SES executive development policies , plans , and programs and provides advice and recommendations to the Sec Def regarding long range needs and problems and related procedures or activities .The EDC is responsible for : \n",
      "( 1 ) Annual review and revision , as appropriate , of executive development plans .\n",
      "( 2 ) Evaluation and certification of the completion of program requirements for each participant in the Presidential Management Fellow and Senior Fellow program , in accordance with part 362 , subpart D , of Reference ( f ) .\n",
      "( 3 ) Approval of leave , leave without pay , or career break planning .\n",
      "( 4 ) Establishment of parameters for an SES candidate development program ( CDP ) and approval of individual development plans for each participant in the SES CDP in accordance with part 412 , subpart C of Reference ( f ) .\n",
      "f . Talent and Succession Management Panel .This panel is responsible for : \n",
      "( 1 ) Performing a comprehensive strategic planning process to assess organizational and individual SES capabilities to meet mission requirements \n",
      "( 2 ) The review and assessment of individual records for all Fourth Estate career SES to provide individualized career and development feedback based on executives ’ career desires , assigning an annual readiness rating , and identifying any talent gaps through determining bench strength behind critical Tier 2 and Tier 3 positions .\n",
      "Appendix \n",
      "Tier Characteristics and Indicators \n",
      "\n",
      "Do DI 1402.03 V2 , April 30 , 2014 \n",
      "Change 2 , 04/20/2017 20 APPENDIX TO ENCLOSURE 4 APPENDIX TO ENCLOSURE 4 \n",
      "TIER 3 TIER CHARACTERISTICS AND INDICATORS Table 1 .Tier 3 – Characteristics and Indicators CHARACTERISTICS Responsibility - Degree of latitude exercised - Degree of policy making authority - Degree of decision making authority - Degree of alignment to enterprise perspective \n",
      "Complexity - Size of budget - Size of staff - Degree of consensus , collaboration , coordination required - Interplay of policies - Degree of precedence - Single vs . multi function \n",
      "Scope of Influence - Number of organizations affected - Level of organizations affected - Impact inside vs . outside Do or Component/agency \n",
      "Impact on Mission - Impact on objectives and strategic goals ( outside Do D , across Do D , Component , organization ) - Impact on development of goals and objectives vs . reaction to them \n",
      "D - Complex and multi Component , multifunction , multi agency , multi national or joint interactions \n",
      "- Activities that are vital to the mission accomplishment of multiple organizations \n",
      "- Most significant levels of latitude and responsibility , as indicated by degree of policy and decisionmaking authority \n",
      "- Impact is extraordinary , tangible and substantially furthers Department , Component and/or agency objectives and strategic goals \n",
      "- Characterized by substantial executive level leadership and managerial skills and competencies ; positions at this level are more likely to be encumbered by more seasoned executives from within the Federal Government or private industry \n",
      "INDICATORS - Leader/Deputy of a large line and/or policy organization at Components/agency headquarters or major command or equivalent \n",
      "- Reports to Presidential Appointee with Senate Confirmation or a three/four star GO/FO or equivalent \n",
      "- Typically supervises at least one Senior Executive or GO/FO or equivalent \n",
      "- Serves as the most senior level in a substantial functional community \n",
      "- Represents top leadership to external entities , to include Congress , OMB , and White House staff \n",
      "- Approves or affects Do D Component/agency wide policies and programs \n",
      "- Represents the Component/agency or organization at key interagency meetings \n",
      "- Formulates Do D Component/agency wide strategic plans , programmatic objectives , policies and standards \n",
      "Do DI 1402.03 V2 , April 30 , 2014 \n",
      "Change 2 , 04/20/2017 21 APPENDIX TO ENCLOSURE 4 Table 2 .Tier 2 – Characteristics and Indicators \n",
      "TIER 2 CHARACTERISTICS Responsibility - Degree of latitude exercised - Degree of policy making authority - Degree of decision making authority - Degree of alignment to enterprise perspective Complexity - Size of budget - Size of staff - Degree of consensus , collaboration , coordination required - Interplay of policies - Degree of precedence - Single vs . multi function Scope of Influence - Number of organizations affected - Level of organizations affected - Impact inside vs . outside Do D or Component/agency \n",
      "Impact on Mission - Impact on objectives and strategic goals ( outside Do D , across Do D , Component , organization ) - Impact on development of goals and objectives vs . reaction to them - Interactions are typically less complex than Tier 3 and generally involve multi Component or intra Component/agency participants \n",
      "- Activities that are vital to the mission accomplishment of assigned organization ( s ) \n",
      "- Latitude and responsibility , as indicated by degree of policy and decision making authority , typically include Component/agency level only \n",
      "- Impact is tangible and furthers Component/agency objectives and strategic goals \n",
      "INDICATORS - Leads an organization below headquarters level and/or serves as a senior functional authority with accountability for major programs \n",
      "- Manages large programs , personnel or organizations \n",
      "- Formulates , oversees and enforces Do D Component/agency policy \n",
      "- Possesses approval authority on major command or equivalent policies and programs \n",
      "- Represents functional area at Do D Component/agency or organizations/service at interagency meetings \n",
      "- Serves on boards , committees and other groups pertaining to assigned functional areas \n",
      "- Reports to Tier 3 Senior Executive or two/three star General/Flag Officer or equivalent .May supervise at least one Tier 1 Senior Executive or GO/FO or equivalent \n",
      "\n",
      "Do DI 1402.03 V2 , April 30 , 2014 \n",
      "Change 2 , 04/20/2017 22 APPENDIX TO ENCLOSURE 4 \n",
      "TIER 1 Table 3 .Tier 1 – Characteristics and Indicators CHARACTERISTICS Responsibility - Degree of latitude exercised - Degree of policy making authority - Degree of decision making authority - Degree of alignment to enterprise perspective \n",
      "Complexity - Size of budget - Size of staff - Degree of consensus , collaboration , coordination required - Interplay of policies - Degree of precedence - Single vs . multi function \n",
      "Scope of Influence - Number of organizations affected - Level of organizations affected - Impact inside vs . outside Do D or Component/agency \n",
      "Impact on Mission - Impact on objectives and strategic goals ( outside Do D , across Do D , Component , organization ) ;- Impact on development of goals and objectives vs . reaction to them \n",
      "- Interactions are typically less complex than Tier 2 and generally involve intra Component/agency participants \n",
      "- Activities that are vital to the mission accomplishment of the assigned organization ( s ) \n",
      "- Latitude and responsibility , as indicated by degree of policy and decision making authority , typically include Component/agency level only \n",
      "- Impact is tangible and furthers Component/agency objectives and strategic goals \n",
      "- Characterized by significant functional and/or technical expertise ; positions at this level are more likely to be encumbered by newlyappointed executives INDICATORS - Oversees planning and effective execution on the full spectrum of programs \n",
      "- Develops systems and standards for the administration and management of approved plans and programs \n",
      "- Develops policies and programs \n",
      "- Manages medium to small programs that have Component/agency wide impact \n",
      "- Participates in a primary role in planning , programming and budgeting activities Initiates programs and action to ensure adherence to Component/agency wide policies and national security objectives .\n",
      "- Consists of technical/expertise based positions , leader/authority within an organization below major command level and focused in nature , as in technical , engineering , contracts , industrial management .\n",
      "Do DI 1402.03 V2 , April 30 , 2014 \n",
      "Change 2 , 04/20/2017 23 GLOSSARY GLOSSARY \n",
      "PART I . ABBREVIATIONS AND ACRONYMS \n",
      "AD assistant director \n",
      "CDP candidate development program \n",
      "DA ODCMO Director of Administration , Office of the Deputy Chief Management Officer Dep Sec Def Deputy Secretary of Defense Do DD Do D Directive \n",
      "EDC Executive Development Committee EEP Executive Evaluation Panel ERB Executive Resources Board ESCS Executive and Schedule C System \n",
      "FY fiscal year \n",
      "GO/FO general or flag officer \n",
      "HRD Human Resources Directorate \n",
      "IPA Intergovernmental Personnel Act \n",
      "OMB Office of Management and Budget OPM Office of Personnel Management \n",
      "PSA Principal Staff Assistant \n",
      "SDRP Secretary of Defense Reserve Pool Sec Def Secretary of Defense SEMO Senior Executive Management Office SES Senior Executive Service SL senior level system \n",
      "Do DI 1402.03 V2 , April 30 , 2014 \n",
      "Change 2 , 04/20/2017 24 GLOSSARY ST scientific and professional system \n",
      "TMP Tier Management Panel \n",
      "USD ( P&R )Under Secretary of Defense for Personnel and Readiness U.S.C . United States Code \n",
      "WHS Washington Headquarters Services \n",
      "PART II . DEFINITIONS These terms and their definitions are for the purposes of this volume of this instruction . biennial allocation request .Required by law to solidify requests for SES positions .The request is a required process that gives OPM the authority to review organizational missions , plans , and structures and assess whether executive resources are being used in the most efficient manner .To facilitate strategic management of the government ’s total executive resources pool , OPM uses this same process to allocate positions in the SL and ST pay systems . biennial review .Every 2 years , in accordance with statutory guidelines , OPM allocates SES positions to federal departments and agencies .The biennial allocation process provides OPM the authority to review organizational missions , plans , and structures and assess whether executive resources are being used in the most efficient manner .To facilitate strategic management of the government ’s total executive resources pool , OPM uses this same process to allocate positions in the SL and ST pay systems . career appointment .Selection by agency merit staffing process and approval of executive qualifications by a Qualifications Review Board run by OPM .Appointments may be to a general or career reserved position , and the rights of the individual are the same in either case .Defense Intelligence Senior Executive .SES equivalent positions established under section 1601 of Reference ( i ) .EEP .An ad hoc panel composed of at least three SES members , or their military equivalent ( i.e . , 07 level or higher ) , including a chair , a member of the Sub ERB , and a third member from outside the hiring component assigned to evaluate the resume , technical qualifications statement , accomplishment record , and executive core qualifications statement for each candidate to determine the best qualified candidates who will be referred to the selecting official . enterprise positions .Do D career SES positions that are determined by the Dep Sec Def to be the most influential and critical to accomplishing the Sec Def ’s vision and strategic priorities , such that they warrant deliberate management at the highest level of Do D . \n",
      "Do DI 1402.03 V2 , April 30 , 2014 \n",
      "Change 2 , 04/20/2017 25 GLOSSARY ERB .A panel of top agency executives responsible for conducting the merit staffing process for career appointment to SES positions .Most ERBs are also responsible for setting policy on and overseeing such areas as SES position planning and executive development .\n",
      "human capital ( people ) .A composition of required skills , understandings , knowledge base and experiences that are strategically aligned with an organizations missions .IPA Mobility Program .Provides for the temporary assignment of personnel between the Federal Government and State and local governments , colleges and universities , Indian tribal governments , federally funded research and development centers , and other eligible organizations . intra agency detail .Temporary support to an agency during which the individual occupies an agency space even though he or she is not available to work for the agency . lapse rate .A resource float system which authorizes recruitment against the hire lag time it takes to fill an SES position .It does not increase the total available resources but allows a resource to be diverted from a vacant position without action ( or in the early stages of recruitment ) to a position that may be ready to be filled . limited emergency appointment .A non renewable appointment for up to 18 months to an SES general position which must be filled urgently .Total number of limited emergency appointments may not exceed 5 percent of SES position allocation government wide .Each agency has a pool equal to a percentage of its position allocation for making limited emergency appointments of career or career type employees from outside the SES .OPM must approve each use of appointment authority in other cases . limited term appointment .A non renewable appointment for up to 3 years to an SES general position which expires because of the nature of the work ( e.g . , a special project ) . management layers .An organizational structure with multiple layers of management . non career appointment .Appointment authority allocated on an individual case basis by OPM ; authority reverts to OPM when the non career appointee leaves the position .Appointments may be made only to general positions and cannot exceed 25 percent of the agency ’s SES position allocation ; government wide , only 10 percent of SES position allocations may be used for noncareer appointments .OSD SES allocation .The OSD ’s executive and managerial positions above GS 15 of the General Schedule . position designation .SES positions are designated as general or career reserved .The designation dictates whether or not a position can be filled by a career , non career , or limited appointee .Presidential management fellow .Defined in section 362.101 of Reference ( f ) .\n",
      "Do DI 1402.03 V2 , April 30 , 2014 \n",
      "Change 2 , 04/20/2017 26 GLOSSARY \n",
      "SDRP .An established , validated allocation centralized within the USD ( P&R ) .A block of these types of allocations is provided for the DA ODCMO to manage on behalf of the Dep Sec Def .SES career reserved .An SES position that may be filled only by an SES career appointee .SES general .An SES position that may be filled through any type of SES appointment ( e.g . , career , non career , limited term , or limited emergency ) .Sub ERB membership .The Sub ERB serves as an executive pool used to establish necessary committees and panels requiring executive representation .The AD , EPP Division , solicits nominations to maintain Sub ERB membership .All Sub ERB members are submitted for approval by the DA ODCMO on an annual basis or as needed or requested by the AD , EPP Division .Sub ERB members are determined based on each PSA ’s respective SES allocation and comprises a diverse group of men , women , minorities , and functional areas of expertise . tier management .Managerial process performed by the TMP charged with the responsibility to evaluate SES positions for placement in one of three tiers based upon the position characteristics for each tier . tier structure .A three level system within Do D that groups SES positions with common characteristics .Tier levels delineate the importance of different positions by placing emphasis on the characteristics of positions such as impact on mission , level of complexity , span of control , inherent authority , scope and breadth of responsibility , and influence in joint , national security matters . total force management .Policies and procedures for determining the most appropriate and costefficient allocations of SES , SL , and ST personnel to perform missions . vacancy attrition rate .Percentage by which SES , SL , or ST positions are lost or reduced over a period of time .\n"
     ]
    }
   ],
   "source": [
    "for paragraph in data[\"paragraphs\"]:\n",
    "    print(paragraph[\"par_raw_text_t\"])\n",
    "\n",
    "#data[\"paragraphs\"][11]"
   ]
  },
  {
   "cell_type": "code",
   "execution_count": null,
   "metadata": {},
   "outputs": [],
   "source": []
  }
 ],
 "metadata": {
  "kernelspec": {
   "display_name": "Python 3",
   "language": "python",
   "name": "python3"
  },
  "language_info": {
   "codemirror_mode": {
    "name": "ipython",
    "version": 3
   },
   "file_extension": ".py",
   "mimetype": "text/x-python",
   "name": "python",
   "nbconvert_exporter": "python",
   "pygments_lexer": "ipython3",
   "version": "3.6.5"
  }
 },
 "nbformat": 4,
 "nbformat_minor": 4
}
